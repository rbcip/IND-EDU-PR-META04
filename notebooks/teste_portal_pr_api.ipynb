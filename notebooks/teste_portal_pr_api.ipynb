{
 "cells": [
  {
   "cell_type": "code",
   "execution_count": 15,
   "id": "3d2edb5a-9b46-4a00-9484-af3ee44ea8ac",
   "metadata": {},
   "outputs": [],
   "source": [
    "import pandas as pd\n",
    "import requests\n",
    "import time\n",
    "import os\n",
    "import re\n"
   ]
  },
  {
   "cell_type": "code",
   "execution_count": 21,
   "id": "973ca6c8-e6c7-449d-a456-f1e7435fc44d",
   "metadata": {},
   "outputs": [],
   "source": [
    "url = \"https://www.transparencia.pr.gov.br/pte/ws/despesas/listardespesa?exercicio={exercicio}&mes={mes}&orgao=41\"\n",
    "anos = range(2013, 2024)\n",
    "meses = range(1, 13)"
   ]
  },
  {
   "cell_type": "code",
   "execution_count": 24,
   "id": "beda0dda-e16c-4564-a6b9-1026e710b405",
   "metadata": {},
   "outputs": [
    {
     "name": "stdout",
     "output_type": "stream",
     "text": [
      "Ano: 2013\n",
      "Ano: 2014\n",
      "Ano: 2015\n",
      "Ano: 2016\n",
      "Ano: 2017\n",
      "Ano: 2018\n",
      "Ano: 2019\n",
      "Ano: 2020\n",
      "Ano: 2021\n",
      "Ano: 2022\n",
      "Ano: 2023\n"
     ]
    }
   ],
   "source": [
    "for ano in anos:\n",
    "    print(f\"Ano: {ano}\")\n",
    "    df = pd.DataFrame()\n",
    "    for mes in meses:\n",
    "        r = requests.get(url.format(exercicio=ano, mes=mes))\n",
    "        if r.status_code < 400:\n",
    "            df = pd.concat([df, pd.DataFrame(r.json()['listaDespesa'])])\n",
    "        time.sleep(4)\n",
    "    df.to_csv(f'listaDespesa_PR_{ano}.csv', index=False)\n"
   ]
  },
  {
   "cell_type": "code",
   "execution_count": 27,
   "id": "fe780860-6fa3-487b-8d1b-6036395df90d",
   "metadata": {},
   "outputs": [],
   "source": [
    "df = pd.DataFrame()\n",
    "for file in os.listdir('./'):\n",
    "    if 'listaDespesa_PR' in file and file[-4:].lower() == '.csv':\n",
    "        df = pd.concat((df, pd.read_csv(file)))\n",
    "    "
   ]
  },
  {
   "cell_type": "code",
   "execution_count": 32,
   "id": "bd36d573-131f-44bc-8248-9b4ad18eb074",
   "metadata": {},
   "outputs": [],
   "source": [
    "df.to_csv('despesas_PR.csv', index=False)\n"
   ]
  },
  {
   "cell_type": "code",
   "execution_count": 20,
   "id": "4a126c55-33bf-4416-9ea6-b407b0bc4d6c",
   "metadata": {},
   "outputs": [],
   "source": [
    "p = re.compile('_[0-9]{4}.xls[x]{0,}')\n",
    "dir = '../dados/csv/adequacao-da-formacao-docente/'\n",
    "files = os.listdir(dir)\n",
    "dfs = {}\n",
    "for file in files:\n",
    "    filename = re.sub(p, '', file)\n",
    "    df = pd.read_excel(os.path.join(dir, file), header=10).dropna()\n",
    "    if filename not in dfs:\n",
    "        dfs[filename] = df\n",
    "    else:\n",
    "        dfs[filename] = pd.concat((dfs[filename], df))\n",
    "\n",
    "for filename in dfs:\n",
    "    dfs[filename].to_csv(f\"{filename}.csv\")\n",
    "    \n",
    "#df = pd.read_excel('../dados/csv/adequacao-da-formacao-docente/afd_brasil_regioes_ufs_2023.xlsx', header=10).dropna()\n",
    "#df"
   ]
  },
  {
   "cell_type": "code",
   "execution_count": 12,
   "id": "4df38482-00f3-4ded-8ef0-b6bf2e92ee02",
   "metadata": {},
   "outputs": [
    {
     "data": {
      "text/plain": [
       "Index(['NU_ANO_CENSO', 'UNIDGEO', 'NO_CATEGORIA', 'NO_DEPENDENCIA',\n",
       "       'ED_INF_CAT_1', 'ED_INF_CAT_2', 'ED_INF_CAT_3', 'ED_INF_CAT_4',\n",
       "       'ED_INF_CAT_5', 'FUN_CAT_1', 'FUN_CAT_2', 'FUN_CAT_3', 'FUN_CAT_4',\n",
       "       'FUN_CAT_5', 'FUN_AI_CAT_1', 'FUN_AI_CAT_2', 'FUN_AI_CAT_3',\n",
       "       'FUN_AI_CAT_4', 'FUN_AI_CAT_5', 'FUN_AF_CAT_1', 'FUN_AF_CAT_2',\n",
       "       'FUN_AF_CAT_3', 'FUN_AF_CAT_4', 'FUN_AF_CAT_5', 'MED_CAT_1',\n",
       "       'MED_CAT_2', 'MED_CAT_3', 'MED_CAT_4', 'MED_CAT_5', 'EJA_FUN_CAT_1',\n",
       "       'EJA_FUN_CAT_2', 'EJA_FUN_CAT_3', 'EJA_FUN_CAT_4', 'EJA_FUN_CAT_5',\n",
       "       'EJA_MED_CAT_1', 'EJA_MED_CAT_2', 'EJA_MED_CAT_3', 'EJA_MED_CAT_4',\n",
       "       'EJA_MED_CAT_5'],\n",
       "      dtype='object')"
      ]
     },
     "execution_count": 12,
     "metadata": {},
     "output_type": "execute_result"
    }
   ],
   "source": [
    "df.columns"
   ]
  }
 ],
 "metadata": {
  "kernelspec": {
   "display_name": "Python 3 (ipykernel)",
   "language": "python",
   "name": "python3"
  },
  "language_info": {
   "codemirror_mode": {
    "name": "ipython",
    "version": 3
   },
   "file_extension": ".py",
   "mimetype": "text/x-python",
   "name": "python",
   "nbconvert_exporter": "python",
   "pygments_lexer": "ipython3",
   "version": "3.10.12"
  }
 },
 "nbformat": 4,
 "nbformat_minor": 5
}
